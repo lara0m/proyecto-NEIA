{
 "cells": [
  {
   "cell_type": "code",
   "execution_count": null,
   "metadata": {},
   "outputs": [],
   "source": [
    "import mne\n",
    "import pandas as pd\n",
    "\n",
    "raw = mne.io.read_raw_edf(\"IA_2_Lari/usuario/diciendo_NO/EEG (1).edf\", preload=True)\n",
    "data, times = raw[:]\n",
    "channel_names = raw.info['ch_names']\n",
    "df = pd.DataFrame(data.T, columns=channel_names)\n",
    "df['timestamp'] = times\n",
    "df.to_csv(\"EEG_data.csv\", index=False)\n"
   ]
  }
 ],
 "metadata": {
  "language_info": {
   "name": "plaintext"
  },
  "orig_nbformat": 4
 },
 "nbformat": 4,
 "nbformat_minor": 2
}
